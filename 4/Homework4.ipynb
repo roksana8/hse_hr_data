{
 "cells": [
  {
   "cell_type": "markdown",
   "id": "objective-equipment",
   "metadata": {},
   "source": [
    "## SQLite и Pandas\n",
    "\n",
    "Сегодня мы поработаем над тем как извлекать данные из базы данных SQLite. Для начала импортируем нужные нам библиотечки."
   ]
  },
  {
   "cell_type": "code",
   "execution_count": 36,
   "id": "protective-clock",
   "metadata": {},
   "outputs": [],
   "source": [
    "import sqlite3\n",
    "import pandas as pd"
   ]
  },
  {
   "cell_type": "markdown",
   "id": "peaceful-notion",
   "metadata": {},
   "source": [
    "Напоминаю, что \"библиотека\" в питоне -- это просто .py-файлики, содержащие наборы функций и объектов, которые можно просто извлекать и использовать. \n",
    "\n",
    "Импортировав две библиотеки выше мы добавили их в нашу рабочую среду и теперь они готовы к использованию. \n",
    "\n",
    "Вы можете написать свои библиотеки для конкретных повторяющихся задач. Иногда это удобно. Иногда нет."
   ]
  },
  {
   "cell_type": "code",
   "execution_count": 37,
   "id": "latest-surgery",
   "metadata": {},
   "outputs": [],
   "source": [
    "# Создаем коннектор к файлу нашей базы данных. \n",
    "# Само собой, файлик Базы Данных должен лежать рядом с файлом блокнота (который вы сейчас читаете). \n",
    "con = sqlite3.connect('homework4.db')"
   ]
  },
  {
   "cell_type": "code",
   "execution_count": 38,
   "id": "psychological-circuit",
   "metadata": {},
   "outputs": [],
   "source": [
    "# Не спрашивайте\n",
    "cur = con.cursor()"
   ]
  },
  {
   "cell_type": "code",
   "execution_count": 39,
   "id": "regular-nutrition",
   "metadata": {},
   "outputs": [
    {
     "data": {
      "text/plain": [
       "[('Вася', 3, '2020-01-01'),\n",
       " ('Вася', 4, '2020-01-02'),\n",
       " ('Вася', 2, '2020-01-03'),\n",
       " ('Вася', 3, '2020-01-04'),\n",
       " ('Вася', 3, '2020-01-05'),\n",
       " ('Максим', 2, '2020-01-04'),\n",
       " ('Маша', 5, '2020-01-01'),\n",
       " ('Маша', 4, '2020-01-02'),\n",
       " ('Маша', 5, '2020-01-03'),\n",
       " ('Маша', 3, '2020-01-04'),\n",
       " ('Маша', 5, '2020-01-05'),\n",
       " ('Петя', 4, '2020-01-01'),\n",
       " ('Петя', 4, '2020-01-02'),\n",
       " ('Петя', 3, '2020-01-03'),\n",
       " ('Петя', 3, '2020-01-04'),\n",
       " ('Петя', 3, '2020-01-05'),\n",
       " ('Саша', 4, '2020-01-01'),\n",
       " ('Саша', 5, '2020-01-02'),\n",
       " ('Саша', 5, '2020-01-03'),\n",
       " ('Саша', 3, '2020-01-04'),\n",
       " ('Саша', 3, '2020-01-05')]"
      ]
     },
     "execution_count": 39,
     "metadata": {},
     "output_type": "execute_result"
    }
   ],
   "source": [
    "# Таким образом исполняется запрос к Базе Данных. \n",
    "# Здесь Python передает предложение SELECT в СУБД (в данном случае это библиотечка sqlite3) и выполняет его, а возвращает набор данных из таблицы (результат работы SELECT)\n",
    "\n",
    "cur.execute('SELECT * FROM EmployeePoints').fetchall()"
   ]
  },
  {
   "cell_type": "code",
   "execution_count": 40,
   "id": "everyday-pipeline",
   "metadata": {},
   "outputs": [
    {
     "data": {
      "text/plain": [
       "[('Маша', 3), ('Саша', 2)]"
      ]
     },
     "execution_count": 40,
     "metadata": {},
     "output_type": "execute_result"
    }
   ],
   "source": [
    "# Можно выполнять и более сложные селекты\n",
    "\n",
    "cur.execute(\"\"\"\n",
    "\n",
    "    SELECT Employee, COUNT(Point)\n",
    "    FROM EmployeePoints\n",
    "    WHERE Point = 5\n",
    "    GROUP BY Employee\n",
    "\n",
    "\n",
    "\"\"\").fetchall()"
   ]
  },
  {
   "cell_type": "markdown",
   "id": "aboriginal-crack",
   "metadata": {},
   "source": [
    "# Pandas\n"
   ]
  },
  {
   "cell_type": "markdown",
   "id": "impossible-banner",
   "metadata": {},
   "source": [
    "В Пандасе есть встроенный метод read_sql для исполнения SQL-запросов. И он неплохо работает с SQLite.\n",
    "\n",
    "Обратите внимание на то, как мы передаем в него коннектор (объект con) для подключения к Базе Данных. \n",
    "\n",
    "Выражение 'df =' означает, что результат работы метода read_sql мы складываем в уже пандасовский объект с названием df."
   ]
  },
  {
   "cell_type": "code",
   "execution_count": 41,
   "id": "academic-childhood",
   "metadata": {},
   "outputs": [],
   "source": [
    "df = pd.read_sql(\"\"\"\n",
    "\n",
    "    SELECT Employee, COUNT(Point)\n",
    "    FROM EmployeePoints\n",
    "    WHERE Point = 5\n",
    "    GROUP BY Employee\n",
    "\n",
    "\n",
    "\"\"\", con)"
   ]
  },
  {
   "cell_type": "markdown",
   "id": "super-thumbnail",
   "metadata": {},
   "source": [
    "Мы извлекли из БД таблицу и сложили ее в пандас-датафрейм df (это уже объект в Python).\n",
    "\n",
    "Далее можем работать с ним как пожелаем."
   ]
  },
  {
   "cell_type": "code",
   "execution_count": 42,
   "id": "gorgeous-questionnaire",
   "metadata": {},
   "outputs": [
    {
     "data": {
      "text/html": [
       "<div>\n",
       "<style scoped>\n",
       "    .dataframe tbody tr th:only-of-type {\n",
       "        vertical-align: middle;\n",
       "    }\n",
       "\n",
       "    .dataframe tbody tr th {\n",
       "        vertical-align: top;\n",
       "    }\n",
       "\n",
       "    .dataframe thead th {\n",
       "        text-align: right;\n",
       "    }\n",
       "</style>\n",
       "<table border=\"1\" class=\"dataframe\">\n",
       "  <thead>\n",
       "    <tr style=\"text-align: right;\">\n",
       "      <th></th>\n",
       "      <th>Employee</th>\n",
       "      <th>COUNT(Point)</th>\n",
       "    </tr>\n",
       "  </thead>\n",
       "  <tbody>\n",
       "    <tr>\n",
       "      <th>0</th>\n",
       "      <td>Маша</td>\n",
       "      <td>3</td>\n",
       "    </tr>\n",
       "    <tr>\n",
       "      <th>1</th>\n",
       "      <td>Саша</td>\n",
       "      <td>2</td>\n",
       "    </tr>\n",
       "  </tbody>\n",
       "</table>\n",
       "</div>"
      ],
      "text/plain": [
       "  Employee  COUNT(Point)\n",
       "0     Маша             3\n",
       "1     Саша             2"
      ]
     },
     "execution_count": 42,
     "metadata": {},
     "output_type": "execute_result"
    }
   ],
   "source": [
    "df"
   ]
  },
  {
   "cell_type": "markdown",
   "id": "impressive-patient",
   "metadata": {},
   "source": [
    "Почитать: https://medium.com/@bigdataschool/%D0%B8%D0%BD%D1%82%D0%B5%D0%B3%D1%80%D0%B0%D1%86%D0%B8%D1%8F-sqlite-%D0%B8-pandas-456d813462c5"
   ]
  },
  {
   "cell_type": "code",
   "execution_count": null,
   "id": "a9038b8d-dd45-4875-a09a-5be2ed156813",
   "metadata": {},
   "outputs": [],
   "source": []
  }
 ],
 "metadata": {
  "kernelspec": {
   "display_name": "Python 3",
   "language": "python",
   "name": "python3"
  },
  "language_info": {
   "codemirror_mode": {
    "name": "ipython",
    "version": 3
   },
   "file_extension": ".py",
   "mimetype": "text/x-python",
   "name": "python",
   "nbconvert_exporter": "python",
   "pygments_lexer": "ipython3",
   "version": "3.8.8"
  }
 },
 "nbformat": 4,
 "nbformat_minor": 5
}
